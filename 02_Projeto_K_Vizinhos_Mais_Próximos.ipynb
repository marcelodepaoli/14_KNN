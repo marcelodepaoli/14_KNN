{
  "cells": [
    {
      "cell_type": "markdown",
      "metadata": {
        "id": "view-in-github",
        "colab_type": "text"
      },
      "source": [
        "<a href=\"https://colab.research.google.com/github/marcelodepaoli/14_KNN/blob/main/02_Projeto_K_Vizinhos_Mais_Pr%C3%B3ximos.ipynb\" target=\"_parent\"><img src=\"https://colab.research.google.com/assets/colab-badge.svg\" alt=\"Open In Colab\"/></a>"
      ]
    },
    {
      "cell_type": "markdown",
      "metadata": {
        "id": "6sjnSXiLPPrJ"
      },
      "source": [
        "# Projeto K Vizinhos Mais Próximos - Soluções\n",
        "\n",
        "## Importação das bibliotecas\n",
        "**Importe pandas,seaborn, e as bibliotecas usuais.**"
      ]
    },
    {
      "cell_type": "code",
      "execution_count": null,
      "metadata": {
        "collapsed": true,
        "id": "21mH-GxDPPrJ"
      },
      "outputs": [],
      "source": []
    },
    {
      "cell_type": "markdown",
      "metadata": {
        "id": "WiDUSywrPPrL"
      },
      "source": [
        "## Obtendo os dados\n",
        "**Leia o arquivo 'KNN_Project_Data' csv em um dataframe**"
      ]
    },
    {
      "cell_type": "code",
      "execution_count": null,
      "metadata": {
        "collapsed": true,
        "id": "y68E-OjNPPrL"
      },
      "outputs": [],
      "source": []
    },
    {
      "cell_type": "markdown",
      "metadata": {
        "id": "7KmQu_vePPrM"
      },
      "source": [
        "**Verifique o cabeçalho do dataframe.**"
      ]
    },
    {
      "cell_type": "code",
      "execution_count": null,
      "metadata": {
        "id": "RWWHcqaAPPrM"
      },
      "outputs": [],
      "source": []
    },
    {
      "cell_type": "markdown",
      "metadata": {
        "id": "jeJXLcKQPPrN"
      },
      "source": [
        "# EDA\n",
        "\n",
        "Como esses dados são artificiais, faremos apenas um grande gráfico pairplot com seaborn.\n",
        "\n",
        "**Use seaborn no dataframe para criar um pairplot com a tonalidade indicada pela coluna TARGET CLASS.**"
      ]
    },
    {
      "cell_type": "code",
      "execution_count": null,
      "metadata": {
        "id": "Rx9VQxTXPPrN"
      },
      "outputs": [],
      "source": []
    },
    {
      "cell_type": "markdown",
      "metadata": {
        "id": "NHdFvVSIPPrN"
      },
      "source": [
        "# Padronizar as Variáveis\n",
        "\n",
        "Hora de padronizar as Variáveis.\n",
        "\n",
        "**Importe StandardScaler do Scikit learn.**"
      ]
    },
    {
      "cell_type": "code",
      "execution_count": null,
      "metadata": {
        "collapsed": true,
        "id": "83yPaLnVPPrN"
      },
      "outputs": [],
      "source": []
    },
    {
      "cell_type": "markdown",
      "metadata": {
        "id": "BgfEDrhePPrO"
      },
      "source": [
        "**Crie um objeto StandardScaler() chamado scaler.**"
      ]
    },
    {
      "cell_type": "code",
      "execution_count": null,
      "metadata": {
        "collapsed": true,
        "id": "6k10PH8FPPrO"
      },
      "outputs": [],
      "source": []
    },
    {
      "cell_type": "markdown",
      "metadata": {
        "id": "XVDA7PWlPPrO"
      },
      "source": [
        "**Ajuste scaler as características.**"
      ]
    },
    {
      "cell_type": "code",
      "execution_count": null,
      "metadata": {
        "id": "lH5SBK60PPrO"
      },
      "outputs": [],
      "source": []
    },
    {
      "cell_type": "markdown",
      "metadata": {
        "id": "ZSK5BjiRPPrO"
      },
      "source": [
        "**Utilize o método .transform() para transformar as caracteristicas para uma versão em escala.**"
      ]
    },
    {
      "cell_type": "code",
      "execution_count": null,
      "metadata": {
        "collapsed": true,
        "id": "KVdFuzOjPPrP"
      },
      "outputs": [],
      "source": []
    },
    {
      "cell_type": "markdown",
      "metadata": {
        "id": "H71aVqKMPPrP"
      },
      "source": [
        "**Converta as caracteristicas  em escala para um dataframe e verifique o cabeçalho deste dataframe para ter certeza que o processo funcionou.**"
      ]
    },
    {
      "cell_type": "code",
      "execution_count": null,
      "metadata": {
        "id": "iISSa9IIPPrP"
      },
      "outputs": [],
      "source": []
    },
    {
      "cell_type": "markdown",
      "metadata": {
        "id": "scKCBvS_PPrQ"
      },
      "source": [
        "# Train Test Split\n",
        "\n",
        "**Use train_test_split para dividir seus dados em um conjunto de treinamento e um conjunto de teste.**"
      ]
    },
    {
      "cell_type": "code",
      "execution_count": null,
      "metadata": {
        "collapsed": true,
        "id": "xBLr-lu0PPrR"
      },
      "outputs": [],
      "source": []
    },
    {
      "cell_type": "markdown",
      "metadata": {
        "id": "qlrt_gGFPPrR"
      },
      "source": [
        "# Utilizando KNN\n",
        "\n",
        "**Importe KNeighborsClassifier do scikit learn.**"
      ]
    },
    {
      "cell_type": "code",
      "execution_count": null,
      "metadata": {
        "collapsed": true,
        "id": "H6NoG06bPPrR"
      },
      "outputs": [],
      "source": []
    },
    {
      "cell_type": "markdown",
      "metadata": {
        "id": "rA5wRgm8PPrR"
      },
      "source": [
        "**Crie uma instânicia do modelo KNN com n_neighbors=1**"
      ]
    },
    {
      "cell_type": "code",
      "execution_count": null,
      "metadata": {
        "collapsed": true,
        "id": "6NhsjCEcPPrS"
      },
      "outputs": [],
      "source": []
    },
    {
      "cell_type": "markdown",
      "metadata": {
        "id": "iK4vKhR5PPrS"
      },
      "source": [
        "**Ajuste este modelo KNN aos dados de treinamento.**"
      ]
    },
    {
      "cell_type": "code",
      "execution_count": null,
      "metadata": {
        "id": "JM-v99dqPPrT"
      },
      "outputs": [],
      "source": []
    },
    {
      "cell_type": "markdown",
      "metadata": {
        "id": "tTOPhxoMPPrT"
      },
      "source": [
        "# Previsões e avaliações"
      ]
    },
    {
      "cell_type": "markdown",
      "metadata": {
        "id": "PxH9u84APPrT"
      },
      "source": [
        "**Use o método predict para prever valores utilizando o seu modelo KNN e X_test.**"
      ]
    },
    {
      "cell_type": "code",
      "execution_count": null,
      "metadata": {
        "id": "x5LUgsO8PPrT"
      },
      "outputs": [],
      "source": []
    },
    {
      "cell_type": "markdown",
      "metadata": {
        "id": "ZnyfLPXaPPrT"
      },
      "source": [
        "**Construa uma matriz de confusão e um relatório de classificação.**"
      ]
    },
    {
      "cell_type": "code",
      "execution_count": null,
      "metadata": {
        "collapsed": true,
        "id": "W0VMdF1_PPrU"
      },
      "outputs": [],
      "source": []
    },
    {
      "cell_type": "markdown",
      "metadata": {
        "id": "tLu1pghpPPrU"
      },
      "source": [
        "## Escolhendo o valor de K\n",
        "\n",
        "**Crie um loop de for que treine vários modelos KNN com diferentes valores de k e, em seguida, acompanhe o error_rate para cada um desses modelos com uma lista.**"
      ]
    },
    {
      "cell_type": "code",
      "execution_count": null,
      "metadata": {
        "collapsed": true,
        "id": "ac6U8VTYPPrV"
      },
      "outputs": [],
      "source": []
    },
    {
      "cell_type": "markdown",
      "metadata": {
        "id": "A9zSFP_oPPrV"
      },
      "source": [
        "**Agora crie um gráfico usando as informações do seu loop for.**"
      ]
    },
    {
      "cell_type": "code",
      "execution_count": null,
      "metadata": {
        "id": "zjjxPybnPPrV"
      },
      "outputs": [],
      "source": []
    },
    {
      "cell_type": "markdown",
      "metadata": {
        "id": "CuzFVgIxPPrV"
      },
      "source": [
        "## Treine novamente com o novo valor de K\n",
        "\n",
        "**Treine novamente seu modelo com o melhor valor de K (você decide o que deseja) e refaça o relatório de classificação e a matriz de confusão.**"
      ]
    },
    {
      "cell_type": "code",
      "execution_count": null,
      "metadata": {
        "id": "B_DME-WgPPrV"
      },
      "outputs": [],
      "source": []
    }
  ],
  "metadata": {
    "kernelspec": {
      "display_name": "Python 3",
      "language": "python",
      "name": "python3"
    },
    "language_info": {
      "codemirror_mode": {
        "name": "ipython",
        "version": 3
      },
      "file_extension": ".py",
      "mimetype": "text/x-python",
      "name": "python",
      "nbconvert_exporter": "python",
      "pygments_lexer": "ipython3",
      "version": "3.5.1"
    },
    "colab": {
      "provenance": [],
      "include_colab_link": true
    }
  },
  "nbformat": 4,
  "nbformat_minor": 0
}